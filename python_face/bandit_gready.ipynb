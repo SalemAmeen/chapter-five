{
 "cells": [
  {
   "cell_type": "code",
   "execution_count": 76,
   "metadata": {
    "collapsed": true
   },
   "outputs": [],
   "source": [
    "import random\n",
    "\n",
    "class BernoulliArm():\n",
    "  def __init__(self, p):\n",
    "    self.p = p\n",
    "  \n",
    "  def draw(self):\n",
    "    if random.random() > self.p:\n",
    "      return 0.0\n",
    "    else:\n",
    "      return 1.0"
   ]
  },
  {
   "cell_type": "code",
   "execution_count": 77,
   "metadata": {
    "collapsed": false
   },
   "outputs": [],
   "source": [
    "import random\n",
    "# this is need to be changed as I n\n",
    "def ind_max(x):\n",
    "  m = max(x)\n",
    "  return x.index(m)\n",
    "\n",
    "class EpsilonGreedy():\n",
    "  def __init__(self, epsilon, counts, values):\n",
    "    self.epsilon = epsilon\n",
    "    self.counts = counts\n",
    "    self.values = values\n",
    "    return\n",
    "\n",
    "  def initialize(self, n_arms):\n",
    "    self.counts = [0 for col in range(n_arms)]\n",
    "    self.values = [0.0 for col in range(n_arms)]\n",
    "    return\n",
    "# select_arm needs to be changed that to reflect ny need of calculte the salinecy of the waights\n",
    "# this needs to define and calculate the error when we set particular weight to zero\n",
    "# other change in the max function it needs to be minimum.\n",
    "  def select_arm(self):\n",
    "    if random.random() > self.epsilon:\n",
    "      return ind_max(self.values)\n",
    "    else:\n",
    "      return random.randrange(len(self.values))\n",
    "  \n",
    "  def update(self, chosen_arm, reward):\n",
    "    self.counts[chosen_arm] = self.counts[chosen_arm] + 1\n",
    "    n = self.counts[chosen_arm]\n",
    "    \n",
    "    value = self.values[chosen_arm]\n",
    "    new_value = ((n - 1) / float(n)) * value + (1 / float(n)) * reward\n",
    "    self.values[chosen_arm] = new_value\n",
    "    return"
   ]
  },
  {
   "cell_type": "code",
   "execution_count": null,
   "metadata": {
    "collapsed": false
   },
   "outputs": [],
   "source": [
    "def epsilon_greedy(estimated_beta_params,epsilon=0.01):\n",
    "    totals = estimated_beta_params.sum(1) # totals\n",
    "    successes = estimated_beta_params[:,0] # successes\n",
    "    estimated_means = successes/totals # the current means\n",
    "    best_mean = np.argmax(estimated_means) # the best mean\n",
    "    be_exporatory = np.random.rand() < epsilon # should we explore?\n",
    "    if be_exporatory: # totally random, excluding the best_mean\n",
    "        other_choice = np.random.randint(0,len(estimated_beta_params))\n",
    "        while other_choice == best_mean:\n",
    "            other_choice = np.random.randint(0,len(estimated_beta_params))\n",
    "        return other_choice\n",
    "    else: # take the best mean\n",
    "        return best_mean"
   ]
  },
  {
   "cell_type": "code",
   "execution_count": null,
   "metadata": {
    "collapsed": false
   },
   "outputs": [],
   "source": [
    "\n"
   ]
  },
  {
   "cell_type": "code",
   "execution_count": 78,
   "metadata": {
    "collapsed": true
   },
   "outputs": [],
   "source": [
    "def test_algorithm(algo, arms, num_sims, horizon):\n",
    "  chosen_arms = [0.0 for i in range(num_sims * horizon)]\n",
    "  rewards = [0.0 for i in range(num_sims * horizon)]\n",
    "  cumulative_rewards = [0.0 for i in range(num_sims * horizon)]\n",
    "  sim_nums = [0.0 for i in range(num_sims * horizon)]\n",
    "  times = [0.0 for i in range(num_sims * horizon)]\n",
    "  \n",
    "  for sim in range(num_sims):\n",
    "    sim = sim + 1\n",
    "    algo.initialize(len(arms))\n",
    "    \n",
    "    for t in range(horizon):\n",
    "      t = t + 1\n",
    "      index = (sim - 1) * horizon + t - 1\n",
    "      sim_nums[index] = sim\n",
    "      times[index] = t\n",
    "      \n",
    "      chosen_arm = algo.select_arm()\n",
    "      chosen_arms[index] = chosen_arm\n",
    "      \n",
    "      reward = arms[chosen_arms[index]].draw()\n",
    "      rewards[index] = reward\n",
    "      \n",
    "      if t == 1:\n",
    "        cumulative_rewards[index] = reward\n",
    "      else:\n",
    "        cumulative_rewards[index] = cumulative_rewards[index - 1] + reward\n",
    "      \n",
    "      algo.update(chosen_arm, reward)\n",
    "  \n",
    "  return [sim_nums, times, chosen_arms, rewards, cumulative_rewards]\n"
   ]
  },
  {
   "cell_type": "code",
   "execution_count": 79,
   "metadata": {
    "collapsed": false
   },
   "outputs": [
    {
     "name": "stdout",
     "output_type": "stream",
     "text": [
      "Best arm is 2\n"
     ]
    }
   ],
   "source": [
    "execfile(\"core.py\")\n",
    "\n",
    "import random\n",
    "\n",
    "random.seed(1)\n",
    "means = [0.6, 0.1, 0.1,- 0.1, 0.9, 0.1, 0.1, 0.1, 0.1, 0.7, 0.1, 0.1, 0.1, 0.1,0.1, 0.1, 0.1, 0.1, 0.9, 0.1, 0.1, 0.1, 0.1, 0.1, 0.1, 0.1, 0.1, 0.1]\n",
    "# means will be weights that's need to calculate thier saliency \n",
    "n_arms = len(means)\n",
    "random.shuffle(means)\n",
    "arms = map(lambda (mu): BernoulliArm(mu), means)\n",
    "print(\"Best arm is \" + str(ind_max(means)))\n",
    "\n",
    "f = open(\"algorithms/epsilon_greedy/standard_results.tsv\", \"w\")\n",
    "\n",
    "for epsilon in [0.0,0.1, 0.2, 0.3, 0.4, 0.5,0.6,0.7,0.8,0.9,1]:\n",
    "  algo = EpsilonGreedy(epsilon, [], [])\n",
    "  algo.initialize(n_arms)\n",
    "  results = test_algorithm(algo, arms, 500, 25)\n",
    "  for i in range(len(results[0])):\n",
    "      f.write(str(epsilon) + \"\\t\")\n",
    "      f.write(\"\\t\".join([str(results[j][i]) for j in range(len(results))]) + \"\\n\")\n",
    "\n",
    "f.close()"
   ]
  },
  {
   "cell_type": "code",
   "execution_count": null,
   "metadata": {
    "collapsed": false
   },
   "outputs": [],
   "source": []
  },
  {
   "cell_type": "code",
   "execution_count": null,
   "metadata": {
    "collapsed": false
   },
   "outputs": [],
   "source": []
  },
  {
   "cell_type": "code",
   "execution_count": null,
   "metadata": {
    "collapsed": true
   },
   "outputs": [],
   "source": []
  },
  {
   "cell_type": "code",
   "execution_count": null,
   "metadata": {
    "collapsed": true
   },
   "outputs": [],
   "source": []
  }
 ],
 "metadata": {
  "kernelspec": {
   "display_name": "Python 2",
   "language": "python",
   "name": "python2"
  },
  "language_info": {
   "codemirror_mode": {
    "name": "ipython",
    "version": 2
   },
   "file_extension": ".py",
   "mimetype": "text/x-python",
   "name": "python",
   "nbconvert_exporter": "python",
   "pygments_lexer": "ipython2",
   "version": "2.7.10"
  }
 },
 "nbformat": 4,
 "nbformat_minor": 0
}
