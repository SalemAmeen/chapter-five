{
 "cells": [
  {
   "cell_type": "markdown",
   "metadata": {},
   "source": [
    "# Load the data"
   ]
  },
  {
   "cell_type": "markdown",
   "metadata": {},
   "source": [
    "## Import Libraries"
   ]
  },
  {
   "cell_type": "code",
   "execution_count": 2,
   "metadata": {
    "collapsed": false
   },
   "outputs": [],
   "source": [
    "import pandas\n",
    "import numpy\n",
    "import sys\n",
    "%matplotlib inline\n",
    "import matplotlib.pyplot as plt\n",
    "from pandas.tools.plotting import scatter_matrix\n",
    "import seaborn as sns\n",
    "import numpy as np\n",
    "import time\n",
    "from sklearn import metrics, grid_search\n",
    "from sklearn import cross_validation\n",
    "from sklearn.metrics import classification_report\n",
    "from sklearn.metrics import confusion_matrix, roc_curve, auc\n",
    "from sklearn.metrics import accuracy_score\n",
    "from sklearn.tree import DecisionTreeClassifier\n",
    "from sklearn.neighbors import KNeighborsClassifier\n",
    "from sklearn.discriminant_analysis import LinearDiscriminantAnalysis\n",
    "from sklearn.naive_bayes import GaussianNB\n",
    "from operator import itemgetter\n",
    "from sklearn.svm import SVC\n",
    "from IPython.display import set_matplotlib_formats\n",
    "set_matplotlib_formats('png', 'pdf')\n",
    "# fix random seed for reproducibility\n",
    "plt.rcParams['figure.figsize'] = (20, 10)"
   ]
  },
  {
   "cell_type": "markdown",
   "metadata": {},
   "source": [
    " ## Load Datasets"
   ]
  },
  {
   "cell_type": "code",
   "execution_count": 3,
   "metadata": {
    "collapsed": false,
    "scrolled": true
   },
   "outputs": [],
   "source": [
    "# fix random seed for reproducibility\n",
    "seed = 7\n",
    "np.random.seed(seed)\n",
    "names = ['sequential number', 'x acceleration', 'y acceleration', 'z acceleration', 'label']\n",
    "#names = ['age','sex','pain','BP','chol','fbs','ecg','maxhr','eiang','eist','slope','vessels','thal','diagnosis']\n",
    "url1 = \"./data/1.csv\"\n",
    "url2 = \"./data/2.csv\"\n",
    "url3 = \"./data/3.csv\"\n",
    "url4 = \"./data/4.csv\"\n",
    "url5 = \"./data/5.csv\"\n",
    "url6 = \"./data/6.csv\"\n",
    "url7 = \"./data/7.csv\"\n",
    "url8 = \"./data/8.csv\"\n",
    "url9 = \"./data/9.csv\"\n",
    "url10 = \"./data/10.csv\"\n",
    "url11 = \"./data/11.csv\"\n",
    "url12 = \"./data/12.csv\"\n",
    "url13 = \"./data/13.csv\"\n",
    "url14 = \"./data/14.csv\"\n",
    "url15 = \"./data/15.csv\"\n",
    "\n",
    "data1 = pandas.read_csv(url1, index_col=False, names=names )\n",
    "data2 = pandas.read_csv(url2, index_col=False, names=names)\n",
    "data3 = pandas.read_csv(url3, index_col=False, names=names)\n",
    "data4 = pandas.read_csv(url4, index_col=False, names=names)\n",
    "data5 = pandas.read_csv(url5, index_col=False, names=names)\n",
    "data6 = pandas.read_csv(url6, index_col=False, names=names)\n",
    "data7 = pandas.read_csv(url7, index_col=False, names=names)\n",
    "data8 = pandas.read_csv(url8, index_col=False, names=names)\n",
    "data9 = pandas.read_csv(url9, index_col=False, names=names)\n",
    "data10 = pandas.read_csv(url10, index_col=False, names=names)\n",
    "data11 = pandas.read_csv(url11, index_col=False, names=names)\n",
    "data12 = pandas.read_csv(url12, index_col=False, names=names)\n",
    "data13 = pandas.read_csv(url13, index_col=False, names=names)\n",
    "data14 = pandas.read_csv(url14, index_col=False, names=names)\n",
    "data15 = pandas.read_csv(url15, index_col=False, names=names)"
   ]
  },
  {
   "cell_type": "code",
   "execution_count": 4,
   "metadata": {
    "collapsed": false
   },
   "outputs": [
    {
     "name": "stdout",
     "output_type": "stream",
     "text": [
      "   sequential number  x acceleration  y acceleration  z acceleration  label\n",
      "0                0.0            1502            2215            2153      1\n",
      "1                1.0            1667            2072            2047      1\n",
      "2                2.0            1611            1957            1906      1\n",
      "3                3.0            1601            1939            1831      1\n",
      "4                4.0            1643            1965            1879      1\n"
     ]
    }
   ],
   "source": [
    "# frames = [data1]\n",
    "frames = [data1, data2, data3, data4, data5, data6, data7,\n",
    "          data8, data9, data10, data11, data12, data13, data14, data15]\n",
    "data = pandas.concat(frames)\n",
    "peek = data.head(5)\n",
    "print(peek)"
   ]
  },
  {
   "cell_type": "code",
   "execution_count": 5,
   "metadata": {
    "collapsed": false
   },
   "outputs": [
    {
     "data": {
      "text/html": [
       "<div>\n",
       "<table border=\"1\" class=\"dataframe\">\n",
       "  <thead>\n",
       "    <tr style=\"text-align: right;\">\n",
       "      <th></th>\n",
       "      <th>sequential number</th>\n",
       "      <th>x acceleration</th>\n",
       "      <th>y acceleration</th>\n",
       "      <th>z acceleration</th>\n",
       "      <th>label</th>\n",
       "    </tr>\n",
       "  </thead>\n",
       "  <tbody>\n",
       "    <tr>\n",
       "      <th>0</th>\n",
       "      <td>0.0</td>\n",
       "      <td>1502</td>\n",
       "      <td>2215</td>\n",
       "      <td>2153</td>\n",
       "      <td>1</td>\n",
       "    </tr>\n",
       "    <tr>\n",
       "      <th>1</th>\n",
       "      <td>1.0</td>\n",
       "      <td>1667</td>\n",
       "      <td>2072</td>\n",
       "      <td>2047</td>\n",
       "      <td>1</td>\n",
       "    </tr>\n",
       "    <tr>\n",
       "      <th>2</th>\n",
       "      <td>2.0</td>\n",
       "      <td>1611</td>\n",
       "      <td>1957</td>\n",
       "      <td>1906</td>\n",
       "      <td>1</td>\n",
       "    </tr>\n",
       "    <tr>\n",
       "      <th>3</th>\n",
       "      <td>3.0</td>\n",
       "      <td>1601</td>\n",
       "      <td>1939</td>\n",
       "      <td>1831</td>\n",
       "      <td>1</td>\n",
       "    </tr>\n",
       "    <tr>\n",
       "      <th>4</th>\n",
       "      <td>4.0</td>\n",
       "      <td>1643</td>\n",
       "      <td>1965</td>\n",
       "      <td>1879</td>\n",
       "      <td>1</td>\n",
       "    </tr>\n",
       "  </tbody>\n",
       "</table>\n",
       "</div>"
      ],
      "text/plain": [
       "   sequential number  x acceleration  y acceleration  z acceleration  label\n",
       "0                0.0            1502            2215            2153      1\n",
       "1                1.0            1667            2072            2047      1\n",
       "2                2.0            1611            1957            1906      1\n",
       "3                3.0            1601            1939            1831      1\n",
       "4                4.0            1643            1965            1879      1"
      ]
     },
     "execution_count": 5,
     "metadata": {},
     "output_type": "execute_result"
    }
   ],
   "source": [
    "data.head()"
   ]
  },
  {
   "cell_type": "code",
   "execution_count": 6,
   "metadata": {
    "collapsed": true
   },
   "outputs": [],
   "source": [
    "del data[\"sequential number\"]"
   ]
  },
  {
   "cell_type": "code",
   "execution_count": 7,
   "metadata": {
    "collapsed": false
   },
   "outputs": [
    {
     "data": {
      "text/html": [
       "<div>\n",
       "<table border=\"1\" class=\"dataframe\">\n",
       "  <thead>\n",
       "    <tr style=\"text-align: right;\">\n",
       "      <th></th>\n",
       "      <th>x acceleration</th>\n",
       "      <th>y acceleration</th>\n",
       "      <th>z acceleration</th>\n",
       "      <th>label</th>\n",
       "    </tr>\n",
       "  </thead>\n",
       "  <tbody>\n",
       "    <tr>\n",
       "      <th>103496</th>\n",
       "      <td>2043</td>\n",
       "      <td>2539</td>\n",
       "      <td>1990</td>\n",
       "      <td>7</td>\n",
       "    </tr>\n",
       "    <tr>\n",
       "      <th>103497</th>\n",
       "      <td>2036</td>\n",
       "      <td>2508</td>\n",
       "      <td>1976</td>\n",
       "      <td>7</td>\n",
       "    </tr>\n",
       "    <tr>\n",
       "      <th>103498</th>\n",
       "      <td>2025</td>\n",
       "      <td>2520</td>\n",
       "      <td>1991</td>\n",
       "      <td>7</td>\n",
       "    </tr>\n",
       "    <tr>\n",
       "      <th>103499</th>\n",
       "      <td>2009</td>\n",
       "      <td>2546</td>\n",
       "      <td>2007</td>\n",
       "      <td>7</td>\n",
       "    </tr>\n",
       "    <tr>\n",
       "      <th>103500</th>\n",
       "      <td>1999</td>\n",
       "      <td>2532</td>\n",
       "      <td>1996</td>\n",
       "      <td>0</td>\n",
       "    </tr>\n",
       "  </tbody>\n",
       "</table>\n",
       "</div>"
      ],
      "text/plain": [
       "        x acceleration  y acceleration  z acceleration  label\n",
       "103496            2043            2539            1990      7\n",
       "103497            2036            2508            1976      7\n",
       "103498            2025            2520            1991      7\n",
       "103499            2009            2546            2007      7\n",
       "103500            1999            2532            1996      0"
      ]
     },
     "execution_count": 7,
     "metadata": {},
     "output_type": "execute_result"
    }
   ],
   "source": [
    "data.tail()"
   ]
  },
  {
   "cell_type": "code",
   "execution_count": 8,
   "metadata": {
    "collapsed": false
   },
   "outputs": [],
   "source": [
    "#data = data.iloc[0:1000]"
   ]
  },
  {
   "cell_type": "code",
   "execution_count": 9,
   "metadata": {
    "collapsed": false
   },
   "outputs": [],
   "source": [
    "data = data.sample(n=1000)"
   ]
  },
  {
   "cell_type": "code",
   "execution_count": 10,
   "metadata": {
    "collapsed": false
   },
   "outputs": [
    {
     "name": "stdout",
     "output_type": "stream",
     "text": [
      "(1000, 4)\n"
     ]
    }
   ],
   "source": [
    "shape = data.shape\n",
    "print(shape)"
   ]
  },
  {
   "cell_type": "code",
   "execution_count": 11,
   "metadata": {
    "collapsed": false
   },
   "outputs": [
    {
     "name": "stdout",
     "output_type": "stream",
     "text": [
      "x acceleration    int64\n",
      "y acceleration    int64\n",
      "z acceleration    int64\n",
      "label             int64\n",
      "dtype: object\n"
     ]
    }
   ],
   "source": [
    "types = data.dtypes\n",
    "print(types)"
   ]
  },
  {
   "cell_type": "code",
   "execution_count": 12,
   "metadata": {
    "collapsed": false
   },
   "outputs": [
    {
     "name": "stdout",
     "output_type": "stream",
     "text": [
      "       x acceleration  y acceleration  z acceleration     label\n",
      "count        1000.000        1000.000        1000.000  1000.000\n",
      "mean         1981.528        2383.881        1970.521     3.927\n",
      "std           108.827         102.009          87.516     2.440\n",
      "min          1573.000        1847.000        1635.000     0.000\n",
      "25%          1901.000        2337.000        1924.000     1.000\n",
      "50%          1981.000        2366.000        1982.000     4.000\n",
      "75%          2073.000        2413.000        2028.250     7.000\n",
      "max          2261.000        2762.000        2222.000     7.000\n"
     ]
    }
   ],
   "source": [
    "pandas.set_option('display.width', 100)\n",
    "pandas.set_option('precision', 3)\n",
    "description = data.describe()\n",
    "print(description)"
   ]
  },
  {
   "cell_type": "code",
   "execution_count": 13,
   "metadata": {
    "collapsed": false
   },
   "outputs": [
    {
     "name": "stdout",
     "output_type": "stream",
     "text": [
      "label\n",
      "0      7\n",
      "1    296\n",
      "2     26\n",
      "3    122\n",
      "4    184\n",
      "5     27\n",
      "6     24\n",
      "7    314\n",
      "dtype: int64\n"
     ]
    }
   ],
   "source": [
    "class_counts = data.groupby('label').size()\n",
    "print(class_counts)"
   ]
  },
  {
   "cell_type": "code",
   "execution_count": 14,
   "metadata": {
    "collapsed": false
   },
   "outputs": [
    {
     "name": "stdout",
     "output_type": "stream",
     "text": [
      "                x acceleration  y acceleration  z acceleration  label\n",
      "x acceleration           1.000           0.436           0.034  0.078\n",
      "y acceleration           0.436           1.000           0.320  0.039\n",
      "z acceleration           0.034           0.320           1.000 -0.021\n",
      "label                    0.078           0.039          -0.021  1.000\n"
     ]
    }
   ],
   "source": [
    "correlations = data.corr(method='pearson')\n",
    "print(correlations)"
   ]
  },
  {
   "cell_type": "code",
   "execution_count": 15,
   "metadata": {
    "collapsed": false
   },
   "outputs": [
    {
     "name": "stdout",
     "output_type": "stream",
     "text": [
      "x acceleration   -0.173\n",
      "y acceleration   -0.187\n",
      "z acceleration   -0.648\n",
      "label             0.085\n",
      "dtype: float64\n"
     ]
    }
   ],
   "source": [
    "skew = data.skew()\n",
    "print(skew)"
   ]
  },
  {
   "cell_type": "markdown",
   "metadata": {},
   "source": [
    "# Visulize the data"
   ]
  },
  {
   "cell_type": "code",
   "execution_count": 16,
   "metadata": {
    "collapsed": false
   },
   "outputs": [
    {
     "data": {
      "application/pdf": "[encoded data removed]",
      "image/png": "[encoded data removed]",
      "text/plain": [
       "<matplotlib.figure.Figure at 0x10c6b7160>"
      ]
     },
     "metadata": {},
     "output_type": "display_data"
    }
   ],
   "source": [
    "data.hist()\n",
    "plt.show()"
   ]
  },
  {
   "cell_type": "code",
   "execution_count": 17,
   "metadata": {
    "collapsed": false
   },
   "outputs": [],
   "source": [
    "#data.plot(kind='density', subplots=True, sharex=False)\n",
    "#plt.show()"
   ]
  },
  {
   "cell_type": "code",
   "execution_count": 18,
   "metadata": {
    "collapsed": false
   },
   "outputs": [
    {
     "data": {
      "application/pdf": "[encoded data removed]",
      "image/png": "[encoded data removed]",
      "text/plain": [
       "<matplotlib.figure.Figure at 0x10c6b7860>"
      ]
     },
     "metadata": {},
     "output_type": "display_data"
    }
   ],
   "source": [
    "data.plot(kind='box', subplots=True, sharex=False, sharey=False)\n",
    "plt.show()"
   ]
  },
  {
   "cell_type": "code",
   "execution_count": 19,
   "metadata": {
    "collapsed": false
   },
   "outputs": [
    {
     "data": {
      "application/pdf": "[encoded data removed]",
      "image/png": "[encoded data removed]",
      "text/plain": [
       "<matplotlib.figure.Figure at 0x11a1ca1d0>"
      ]
     },
     "metadata": {},
     "output_type": "display_data"
    }
   ],
   "source": [
    "# Encode the categorical features as numbers\n",
    "def number_encode_features(df):\n",
    "    result = df.copy()\n",
    "    encoders = {}\n",
    "    for column in result.columns:\n",
    "        if result.dtypes[column] == np.object:\n",
    "            encoders[column] = preprocessing.LabelEncoder()\n",
    "            result[column] = encoders[column].fit_transform(result[column])\n",
    "    return result, encoders\n",
    "\n",
    "# Calculate the correlation and plot it\n",
    "encoded_data, _ = number_encode_features(data)\n",
    "sns.heatmap(encoded_data.corr(), square=True)\n",
    "plt.show()"
   ]
  },
  {
   "cell_type": "markdown",
   "metadata": {},
   "source": [
    "# Prepare the data for classification"
   ]
  },
  {
   "cell_type": "code",
   "execution_count": 20,
   "metadata": {
    "collapsed": false
   },
   "outputs": [],
   "source": [
    "from sklearn import preprocessing\n",
    "dataset = data.values\n",
    "X = dataset[:,0:3].astype(float)\n",
    "Y = dataset[:,3]\n",
    "features = preprocessing.scale(X)\n",
    "target = Y"
   ]
  },
  {
   "cell_type": "code",
   "execution_count": 21,
   "metadata": {
    "collapsed": false
   },
   "outputs": [
    {
     "name": "stdout",
     "output_type": "stream",
     "text": [
      "Number of training examples 640\n",
      "Number of validation examples 160\n",
      "Number of testing examples 200\n"
     ]
    }
   ],
   "source": [
    "# Make developement dataset for genrilization and final testing\n",
    "from sklearn.cross_validation import train_test_split\n",
    "# Extracting 20% testing data\n",
    "X_train_feature, X_deploy, y_train_feature, y_deploy = train_test_split(\n",
    "    features, target, test_size=0.20, random_state=0)\n",
    "# Make training and validation data sets for building the models and choose the hyperparameters\n",
    "X_train, X_test, y_train, y_test = train_test_split(\n",
    "    X_train_feature, y_train_feature, test_size=0.20, random_state=0)\n",
    "\n",
    "print('Number of training examples',len(X_train))\n",
    "print('Number of validation examples',len(X_test))\n",
    "print('Number of testing examples',len(X_deploy))"
   ]
  },
  {
   "cell_type": "markdown",
   "metadata": {},
   "source": [
    "# Feature Selection"
   ]
  },
  {
   "cell_type": "code",
   "execution_count": 22,
   "metadata": {
    "collapsed": false
   },
   "outputs": [
    {
     "name": "stdout",
     "output_type": "stream",
     "text": [
      "[ 0.33221882  0.32390059  0.34388059]\n"
     ]
    }
   ],
   "source": [
    "from sklearn import metrics\n",
    "from sklearn.ensemble import ExtraTreesClassifier\n",
    "model = ExtraTreesClassifier()\n",
    "model.fit(X_train, y_train)\n",
    "# display the relative importance of each attribute\n",
    "print(model.feature_importances_)"
   ]
  },
  {
   "cell_type": "code",
   "execution_count": 23,
   "metadata": {
    "collapsed": false
   },
   "outputs": [
    {
     "data": {
      "application/pdf": "[encoded data removed]",
      "image/png": "[encoded data removed]",
      "text/plain": [
       "<matplotlib.figure.Figure at 0x11a218eb8>"
      ]
     },
     "metadata": {},
     "output_type": "display_data"
    }
   ],
   "source": [
    "# importabt of features according to random forest\n",
    "from sklearn.ensemble import RandomForestClassifier\n",
    "rf = RandomForestClassifier(n_estimators = 15)\n",
    "rf.fit(X, Y)\n",
    "imp = rf.feature_importances_\n",
    "names = data.columns\n",
    "\n",
    "imp, names = zip(*sorted(zip(imp,names)))\n",
    "plt.barh(range(len(names)), imp, align = 'center')\n",
    "plt.yticks(range(len(names)), names)\n",
    "\n",
    "plt.xlabel('Impotance of features')\n",
    "plt.ylabel('features')\n",
    "plt.title('Importance of each feature')\n",
    "plt.show()"
   ]
  },
  {
   "cell_type": "markdown",
   "metadata": {},
   "source": [
    "# Building classifiers"
   ]
  },
  {
   "cell_type": "markdown",
   "metadata": {},
   "source": [
    "Function of printing best three models"
   ]
  },
  {
   "cell_type": "code",
   "execution_count": 24,
   "metadata": {
    "collapsed": true
   },
   "outputs": [],
   "source": [
    "# Utility function to report best scores\n",
    "def report(grid_scores, n_top=3):\n",
    "    top_scores = sorted(grid_scores, key=itemgetter(1), reverse=True)[:n_top]\n",
    "    for i, score in enumerate(top_scores):\n",
    "        print(\"Model with rank: {0}\".format(i + 1))\n",
    "        print(\"Mean validation score: {0:.3f} (std: {1:.3f})\".format(\n",
    "              score.mean_validation_score,\n",
    "              np.std(score.cv_validation_scores)))\n",
    "        print(\"Parameters: {0}\".format(score.parameters))\n",
    "        print(\"\")"
   ]
  },
  {
   "cell_type": "markdown",
   "metadata": {},
   "source": [
    "## KNN classifier\n"
   ]
  },
  {
   "cell_type": "markdown",
   "metadata": {},
   "source": [
    "### Seaching for the best hyperparameters \n"
   ]
  },
  {
   "cell_type": "code",
   "execution_count": 25,
   "metadata": {
    "collapsed": false
   },
   "outputs": [
    {
     "name": "stdout",
     "output_type": "stream",
     "text": [
      "Model with rank: 1\n",
      "Mean validation score: 0.583 (std: 0.016)\n",
      "Parameters: {'algorithm': 'auto', 'n_neighbors': 1}\n",
      "\n",
      "Model with rank: 2\n",
      "Mean validation score: 0.583 (std: 0.016)\n",
      "Parameters: {'algorithm': 'ball_tree', 'n_neighbors': 1}\n",
      "\n",
      "Model with rank: 3\n",
      "Mean validation score: 0.583 (std: 0.016)\n",
      "Parameters: {'algorithm': 'kd_tree', 'n_neighbors': 1}\n",
      "\n"
     ]
    }
   ],
   "source": [
    "\n",
    "from sklearn.neighbors import KNeighborsClassifier\n",
    "parameters =  {'n_neighbors': [1,4,6,10], 'algorithm': ['auto','ball_tree','kd_tree','brute']}\n",
    "knn = KNeighborsClassifier()\n",
    "clf = grid_search.GridSearchCV(knn, parameters)\n",
    "clf.fit(X_train, y_train)\n",
    "report(clf.grid_scores_)"
   ]
  },
  {
   "cell_type": "markdown",
   "metadata": {},
   "source": [
    "### Classifier"
   ]
  },
  {
   "cell_type": "code",
   "execution_count": 26,
   "metadata": {
    "collapsed": false
   },
   "outputs": [
    {
     "name": "stdout",
     "output_type": "stream",
     "text": [
      "The time for training KNN is  0.0012979507446289062 seconds \n",
      "===================================================================\n",
      "The accuracy on validation dataset of KNN: \t 0.53125\n",
      "Precision on validation dataset of KNN:    \t 0.251712262695\n",
      "Recall on validation dataset of KNN :      \t 0.257057939825\n",
      "F1 score on validation dataset of KNN:     \t 0.246028001551\n",
      "===================================================================\n",
      "             precision    recall  f1-score   support\n",
      "\n",
      "          0       0.00      0.00      0.00         1\n",
      "          1       0.55      0.83      0.66        41\n",
      "          2       0.00      0.00      0.00         4\n",
      "          3       0.25      0.22      0.23        23\n",
      "          4       0.58      0.32      0.42        34\n",
      "          5       0.00      0.00      0.00         3\n",
      "          6       0.00      0.00      0.00         3\n",
      "          7       0.64      0.69      0.66        51\n",
      "\n",
      "avg / total       0.50      0.53      0.50       160\n",
      "\n"
     ]
    },
    {
     "name": "stderr",
     "output_type": "stream",
     "text": [
      "/Library/Frameworks/Python.framework/Versions/3.6/lib/python3.6/site-packages/sklearn/metrics/classification.py:1113: UndefinedMetricWarning: Precision is ill-defined and being set to 0.0 in labels with no predicted samples.\n",
      "  'precision', 'predicted', average, warn_for)\n",
      "/Library/Frameworks/Python.framework/Versions/3.6/lib/python3.6/site-packages/sklearn/metrics/classification.py:1113: UndefinedMetricWarning: F-score is ill-defined and being set to 0.0 in labels with no predicted samples.\n",
      "  'precision', 'predicted', average, warn_for)\n",
      "/Library/Frameworks/Python.framework/Versions/3.6/lib/python3.6/site-packages/sklearn/metrics/classification.py:1113: UndefinedMetricWarning: Precision and F-score are ill-defined and being set to 0.0 in labels with no predicted samples.\n",
      "  'precision', 'predicted', average, warn_for)\n"
     ]
    }
   ],
   "source": [
    "clf_neigh = KNeighborsClassifier(algorithm='auto' , n_neighbors=6)\n",
    "#Training\n",
    "start_time = time.time()\n",
    "clf_neigh.fit(X_train, y_train)\n",
    "print(\"The time for training KNN is  %s seconds \" % (time.time() - start_time))\n",
    "\n",
    "# Make a prediction\n",
    "y_pred = clf_neigh.predict(X_test)\n",
    "\n",
    "print(\"===================================================================\")\n",
    "print(\"The accuracy on validation dataset of KNN: \\t\", metrics.accuracy_score(y_test, y_pred))\n",
    "print(\"Precision on validation dataset of KNN:    \\t\", metrics.precision_score(y_test, y_pred, average=\"macro\"))\n",
    "print(\"Recall on validation dataset of KNN :      \\t\", metrics.recall_score(y_test, y_pred, average=\"macro\"))\n",
    "print(\"F1 score on validation dataset of KNN:     \\t\", metrics.f1_score(y_test, y_pred, average=\"macro\"))\n",
    "print(\"===================================================================\")\n",
    "print(metrics.classification_report(y_test, y_pred, target_names=['0', '1', '2','3','4', '5', '6', '7']))"
   ]
  },
  {
   "cell_type": "markdown",
   "metadata": {},
   "source": [
    "## SVM classifier\n",
    "### Seaching for the best hyperparameters \n"
   ]
  },
  {
   "cell_type": "code",
   "execution_count": 27,
   "metadata": {
    "collapsed": false
   },
   "outputs": [
    {
     "name": "stdout",
     "output_type": "stream",
     "text": [
      "Model with rank: 1\n",
      "Mean validation score: 0.450 (std: 0.011)\n",
      "Parameters: {'C': 1, 'gamma': 0.1, 'kernel': 'rbf'}\n",
      "\n",
      "Model with rank: 2\n",
      "Mean validation score: 0.373 (std: 0.014)\n",
      "Parameters: {'C': 1, 'kernel': 'linear'}\n",
      "\n"
     ]
    }
   ],
   "source": [
    "from sklearn import svm\n",
    "#parameters = {'kernel':('linear', 'rbf'), 'C':[1, 20]}\n",
    "parameters = [\n",
    "  {'C': [1], 'kernel': ['linear']},\n",
    "  {'C': [1], 'gamma': [0.1], 'kernel': ['rbf']},\n",
    " ]\n",
    "svr = svm.SVC()\n",
    "clf = grid_search.GridSearchCV(svr, parameters)\n",
    "clf.fit(X_train, y_train)\n",
    "report(clf.grid_scores_)"
   ]
  },
  {
   "cell_type": "code",
   "execution_count": 28,
   "metadata": {
    "collapsed": false
   },
   "outputs": [
    {
     "name": "stdout",
     "output_type": "stream",
     "text": [
      "The time for training SVM is  0.021797895431518555 seconds \n",
      "===================================================================\n",
      "The accuracy on validation dataset of SVM: \t 0.275\n",
      "Precision on validation dataset of SVM:    \t 0.0685630637759\n",
      "Recall on validation dataset of SVM :      \t 0.119201339072\n",
      "F1 score on validation dataset of SVM:     \t 0.0870535714286\n",
      "===================================================================\n",
      "             precision    recall  f1-score   support\n",
      "\n",
      "          0       0.00      0.00      0.00         1\n",
      "          1       0.27      0.46      0.34        41\n",
      "          2       0.00      0.00      0.00         4\n",
      "          3       0.00      0.00      0.00        23\n",
      "          4       0.00      0.00      0.00        34\n",
      "          5       0.00      0.00      0.00         3\n",
      "          6       0.00      0.00      0.00         3\n",
      "          7       0.28      0.49      0.36        51\n",
      "\n",
      "avg / total       0.16      0.28      0.20       160\n",
      "\n"
     ]
    },
    {
     "name": "stderr",
     "output_type": "stream",
     "text": [
      "/Library/Frameworks/Python.framework/Versions/3.6/lib/python3.6/site-packages/sklearn/metrics/classification.py:1113: UndefinedMetricWarning: Precision is ill-defined and being set to 0.0 in labels with no predicted samples.\n",
      "  'precision', 'predicted', average, warn_for)\n",
      "/Library/Frameworks/Python.framework/Versions/3.6/lib/python3.6/site-packages/sklearn/metrics/classification.py:1113: UndefinedMetricWarning: F-score is ill-defined and being set to 0.0 in labels with no predicted samples.\n",
      "  'precision', 'predicted', average, warn_for)\n",
      "/Library/Frameworks/Python.framework/Versions/3.6/lib/python3.6/site-packages/sklearn/metrics/classification.py:1113: UndefinedMetricWarning: Precision and F-score are ill-defined and being set to 0.0 in labels with no predicted samples.\n",
      "  'precision', 'predicted', average, warn_for)\n"
     ]
    }
   ],
   "source": [
    "clf_svm = SVC(C=10.0, gamma=0.001, kernel='rbf')\n",
    "#Training\n",
    "start_time = time.time()\n",
    "clf_svm.fit(X_train, y_train)\n",
    "print(\"The time for training SVM is  %s seconds \" % (time.time() - start_time))\n",
    "\n",
    "# Make a prediction\n",
    "y_pred = clf_svm.predict(X_test)\n",
    "\n",
    "print(\"===================================================================\")\n",
    "print(\"The accuracy on validation dataset of SVM: \\t\", metrics.accuracy_score(y_test, y_pred))\n",
    "print(\"Precision on validation dataset of SVM:    \\t\", metrics.precision_score(y_test, y_pred, average=\"macro\"))\n",
    "print(\"Recall on validation dataset of SVM :      \\t\", metrics.recall_score(y_test, y_pred, average=\"macro\"))\n",
    "print(\"F1 score on validation dataset of SVM:     \\t\", metrics.f1_score(y_test, y_pred, average=\"macro\"))\n",
    "print(\"===================================================================\")\n",
    "print(metrics.classification_report(y_test, y_pred, target_names=['0', '1', '2','3','4', '5', '6', '7']))"
   ]
  },
  {
   "cell_type": "markdown",
   "metadata": {},
   "source": [
    "## Decsion Tree classifier\n",
    "### Seaching for the best hyperparameters \n"
   ]
  },
  {
   "cell_type": "code",
   "execution_count": 29,
   "metadata": {
    "collapsed": false
   },
   "outputs": [
    {
     "name": "stdout",
     "output_type": "stream",
     "text": [
      "Model with rank: 1\n",
      "Mean validation score: 0.545 (std: 0.045)\n",
      "Parameters: {'criterion': 'gini', 'min_samples_leaf': 4, 'min_samples_split': 2}\n",
      "\n",
      "Model with rank: 2\n",
      "Mean validation score: 0.545 (std: 0.050)\n",
      "Parameters: {'criterion': 'gini', 'min_samples_leaf': 4, 'min_samples_split': 4}\n",
      "\n",
      "Model with rank: 3\n",
      "Mean validation score: 0.544 (std: 0.049)\n",
      "Parameters: {'criterion': 'gini', 'min_samples_leaf': 4, 'min_samples_split': 3}\n",
      "\n"
     ]
    }
   ],
   "source": [
    "from sklearn import tree\n",
    "parameters = {'criterion':('gini', 'entropy'),\n",
    "              'min_samples_split': [ 2, 3, 4],\n",
    "              'min_samples_leaf': [ 2, 3, 4]}\n",
    "\n",
    "dt = tree.DecisionTreeClassifier()\n",
    "clf = grid_search.GridSearchCV(dt, parameters)\n",
    "clf.fit(X_train, y_train)\n",
    "report(clf.grid_scores_)"
   ]
  },
  {
   "cell_type": "markdown",
   "metadata": {},
   "source": [
    "### Classifier"
   ]
  },
  {
   "cell_type": "code",
   "execution_count": 30,
   "metadata": {
    "collapsed": false
   },
   "outputs": [
    {
     "name": "stdout",
     "output_type": "stream",
     "text": [
      "The time for training Decision Tree is  0.0032072067260742188 seconds \n",
      "===================================================================\n",
      "The accuracy on validation dataset of DECISON TREE: \t 0.5125\n",
      "Precision on validation dataset of DECISON TREE:    \t 0.252270605212\n",
      "Recall on validation dataset of DECSISON TREE :      \t 0.259284095398\n",
      "F1 score on validation dataset of DECISION TREE:     \t 0.253361186014\n",
      "===================================================================\n",
      "             precision    recall  f1-score   support\n",
      "\n",
      "          0       0.00      0.00      0.00         1\n",
      "          1       0.61      0.80      0.69        41\n",
      "          2       0.00      0.00      0.00         4\n",
      "          3       0.36      0.35      0.36        23\n",
      "          4       0.35      0.35      0.35        34\n",
      "          5       0.00      0.00      0.00         3\n",
      "          6       0.00      0.00      0.00         3\n",
      "          7       0.69      0.57      0.62        51\n",
      "\n",
      "avg / total       0.50      0.51      0.50       160\n",
      "\n"
     ]
    },
    {
     "name": "stderr",
     "output_type": "stream",
     "text": [
      "/Library/Frameworks/Python.framework/Versions/3.6/lib/python3.6/site-packages/sklearn/metrics/classification.py:1113: UndefinedMetricWarning: Precision is ill-defined and being set to 0.0 in labels with no predicted samples.\n",
      "  'precision', 'predicted', average, warn_for)\n",
      "/Library/Frameworks/Python.framework/Versions/3.6/lib/python3.6/site-packages/sklearn/metrics/classification.py:1113: UndefinedMetricWarning: F-score is ill-defined and being set to 0.0 in labels with no predicted samples.\n",
      "  'precision', 'predicted', average, warn_for)\n",
      "/Library/Frameworks/Python.framework/Versions/3.6/lib/python3.6/site-packages/sklearn/metrics/classification.py:1113: UndefinedMetricWarning: Precision and F-score are ill-defined and being set to 0.0 in labels with no predicted samples.\n",
      "  'precision', 'predicted', average, warn_for)\n"
     ]
    }
   ],
   "source": [
    "from sklearn.tree import DecisionTreeClassifier\n",
    "clf_dt_IG = DecisionTreeClassifier(criterion='entropy', min_samples_split=2, min_samples_leaf=4)\n",
    "#Training\n",
    "start_time = time.time()\n",
    "clf_dt_IG.fit(X_train, y_train)\n",
    "print(\"The time for training Decision Tree is  %s seconds \" % (time.time() - start_time))\n",
    "\n",
    "# Make a prediction\n",
    "y_pred = clf_dt_IG.predict(X_test)\n",
    "\n",
    "print(\"===================================================================\")\n",
    "print(\"The accuracy on validation dataset of DECISON TREE: \\t\", metrics.accuracy_score(y_test, y_pred))\n",
    "print(\"Precision on validation dataset of DECISON TREE:    \\t\", metrics.precision_score(y_test, y_pred, average=\"macro\"))\n",
    "print(\"Recall on validation dataset of DECSISON TREE :      \\t\", metrics.recall_score(y_test, y_pred, average=\"macro\"))\n",
    "print(\"F1 score on validation dataset of DECISION TREE:     \\t\", metrics.f1_score(y_test, y_pred, average=\"macro\"))\n",
    "print(\"===================================================================\")\n",
    "print(metrics.classification_report(y_test, y_pred, target_names=['0', '1', '2','3','4', '5', '6', '7']))"
   ]
  },
  {
   "cell_type": "markdown",
   "metadata": {},
   "source": [
    "## Naive Bayes methods"
   ]
  },
  {
   "cell_type": "markdown",
   "metadata": {},
   "source": [
    "### Classifier"
   ]
  },
  {
   "cell_type": "code",
   "execution_count": 31,
   "metadata": {
    "collapsed": false
   },
   "outputs": [
    {
     "name": "stdout",
     "output_type": "stream",
     "text": [
      "The time for training Naive Bayes is  0.0013310909271240234 seconds \n",
      "===================================================================\n",
      "The accuracy on validation dataset of NB: \t 0.4125\n",
      "Precision on validation dataset of NB:    \t 0.148263609547\n",
      "Recall on validation dataset of NB :      \t 0.174946197991\n",
      "F1 score on validation dataset of NB:     \t 0.134177847144\n",
      "===================================================================\n",
      "             precision    recall  f1-score   support\n",
      "\n",
      "          0       0.00      0.00      0.00         1\n",
      "          1       0.45      0.49      0.47        41\n",
      "          2       0.00      0.00      0.00         4\n",
      "          3       0.00      0.00      0.00        23\n",
      "          4       0.33      0.03      0.05        34\n",
      "          5       0.00      0.00      0.00         3\n",
      "          6       0.00      0.00      0.00         3\n",
      "          7       0.40      0.88      0.55        51\n",
      "\n",
      "avg / total       0.31      0.41      0.31       160\n",
      "\n"
     ]
    },
    {
     "name": "stderr",
     "output_type": "stream",
     "text": [
      "/Library/Frameworks/Python.framework/Versions/3.6/lib/python3.6/site-packages/sklearn/metrics/classification.py:1113: UndefinedMetricWarning: Precision is ill-defined and being set to 0.0 in labels with no predicted samples.\n",
      "  'precision', 'predicted', average, warn_for)\n",
      "/Library/Frameworks/Python.framework/Versions/3.6/lib/python3.6/site-packages/sklearn/metrics/classification.py:1113: UndefinedMetricWarning: F-score is ill-defined and being set to 0.0 in labels with no predicted samples.\n",
      "  'precision', 'predicted', average, warn_for)\n",
      "/Library/Frameworks/Python.framework/Versions/3.6/lib/python3.6/site-packages/sklearn/metrics/classification.py:1113: UndefinedMetricWarning: Precision and F-score are ill-defined and being set to 0.0 in labels with no predicted samples.\n",
      "  'precision', 'predicted', average, warn_for)\n"
     ]
    }
   ],
   "source": [
    "from sklearn.naive_bayes import GaussianNB\n",
    "clf_NB = GaussianNB()\n",
    "#Training\n",
    "start_time = time.time()\n",
    "clf_NB.fit(X_train, y_train)\n",
    "print(\"The time for training Naive Bayes is  %s seconds \" % (time.time() - start_time))\n",
    "\n",
    "# Make a prediction\n",
    "y_pred = clf_NB.predict(X_test)\n",
    "\n",
    "print(\"===================================================================\")\n",
    "print(\"The accuracy on validation dataset of NB: \\t\", metrics.accuracy_score(y_test, y_pred))\n",
    "print(\"Precision on validation dataset of NB:    \\t\", metrics.precision_score(y_test, y_pred, average=\"macro\"))\n",
    "print(\"Recall on validation dataset of NB :      \\t\", metrics.recall_score(y_test, y_pred, average=\"macro\"))\n",
    "print(\"F1 score on validation dataset of NB:     \\t\", metrics.f1_score(y_test, y_pred, average=\"macro\"))\n",
    "print(\"===================================================================\")\n",
    "print(metrics.classification_report(y_test, y_pred, target_names=['0', '1', '2','3','4', '5', '6', '7']))"
   ]
  },
  {
   "cell_type": "markdown",
   "metadata": {},
   "source": [
    "## Linear Discriminant Analysis classifier\n",
    "### Seaching for the best hyperparameters "
   ]
  },
  {
   "cell_type": "code",
   "execution_count": 32,
   "metadata": {
    "collapsed": false
   },
   "outputs": [
    {
     "name": "stdout",
     "output_type": "stream",
     "text": [
      "Model with rank: 1\n",
      "Mean validation score: 0.347 (std: 0.029)\n",
      "Parameters: {'solver': 'svd'}\n",
      "\n",
      "Model with rank: 2\n",
      "Mean validation score: 0.347 (std: 0.029)\n",
      "Parameters: {'solver': 'lsqr'}\n",
      "\n"
     ]
    },
    {
     "name": "stderr",
     "output_type": "stream",
     "text": [
      "/Library/Frameworks/Python.framework/Versions/3.6/lib/python3.6/site-packages/scipy/linalg/basic.py:884: RuntimeWarning: internal gelsd driver lwork query error, required iwork dimension not returned. This is likely the result of LAPACK bug 0038, fixed in LAPACK 3.2.2 (released July 21, 2010). Falling back to 'gelss' driver.\n",
      "  warnings.warn(mesg, RuntimeWarning)\n",
      "/Library/Frameworks/Python.framework/Versions/3.6/lib/python3.6/site-packages/sklearn/discriminant_analysis.py:455: UserWarning: The priors do not sum to 1. Renormalizing\n",
      "  UserWarning)\n"
     ]
    }
   ],
   "source": [
    "from sklearn.discriminant_analysis import LinearDiscriminantAnalysis\n",
    "parameters = {'solver':('svd', 'lsqr')}\n",
    "\n",
    "ld = LinearDiscriminantAnalysis()\n",
    "clf = grid_search.GridSearchCV(ld, parameters)\n",
    "clf.fit(X_train, y_train)\n",
    "report(clf.grid_scores_)"
   ]
  },
  {
   "cell_type": "markdown",
   "metadata": {},
   "source": [
    "### Classifier"
   ]
  },
  {
   "cell_type": "code",
   "execution_count": 33,
   "metadata": {
    "collapsed": false
   },
   "outputs": [
    {
     "name": "stderr",
     "output_type": "stream",
     "text": [
      "/Library/Frameworks/Python.framework/Versions/3.6/lib/python3.6/site-packages/sklearn/discriminant_analysis.py:455: UserWarning: The priors do not sum to 1. Renormalizing\n",
      "  UserWarning)\n"
     ]
    },
    {
     "name": "stdout",
     "output_type": "stream",
     "text": [
      "The time for training Decision Tree is  0.0018620491027832031 seconds \n",
      "===================================================================\n",
      "The accuracy on validation dataset of LDA: \t 0.3125\n",
      "Precision on validation dataset of LDA:    \t 0.0782350179941\n",
      "Recall on validation dataset of LDA :      \t 0.137494021999\n",
      "F1 score on validation dataset of LDA:     \t 0.0996078927397\n",
      "===================================================================\n",
      "             precision    recall  f1-score   support\n",
      "\n",
      "          0       0.00      0.00      0.00         1\n",
      "          1       0.32      0.61      0.42        41\n",
      "          2       0.00      0.00      0.00         4\n",
      "          3       0.00      0.00      0.00        23\n",
      "          4       0.00      0.00      0.00        34\n",
      "          5       0.00      0.00      0.00         3\n",
      "          6       0.00      0.00      0.00         3\n",
      "          7       0.30      0.49      0.37        51\n",
      "\n",
      "avg / total       0.18      0.31      0.23       160\n",
      "\n"
     ]
    },
    {
     "name": "stderr",
     "output_type": "stream",
     "text": [
      "/Library/Frameworks/Python.framework/Versions/3.6/lib/python3.6/site-packages/sklearn/metrics/classification.py:1113: UndefinedMetricWarning: Precision is ill-defined and being set to 0.0 in labels with no predicted samples.\n",
      "  'precision', 'predicted', average, warn_for)\n",
      "/Library/Frameworks/Python.framework/Versions/3.6/lib/python3.6/site-packages/sklearn/metrics/classification.py:1113: UndefinedMetricWarning: F-score is ill-defined and being set to 0.0 in labels with no predicted samples.\n",
      "  'precision', 'predicted', average, warn_for)\n",
      "/Library/Frameworks/Python.framework/Versions/3.6/lib/python3.6/site-packages/sklearn/metrics/classification.py:1113: UndefinedMetricWarning: Precision and F-score are ill-defined and being set to 0.0 in labels with no predicted samples.\n",
      "  'precision', 'predicted', average, warn_for)\n"
     ]
    }
   ],
   "source": [
    "from sklearn.discriminant_analysis import LinearDiscriminantAnalysis\n",
    "clf_dt_LDA = LinearDiscriminantAnalysis()\n",
    "#Training\n",
    "start_time = time.time()\n",
    "clf_dt_LDA.fit(X_train, y_train)\n",
    "print(\"The time for training Decision Tree is  %s seconds \" % (time.time() - start_time))\n",
    "\n",
    "# Make a prediction\n",
    "y_pred = clf_dt_LDA.predict(X_test)\n",
    "\n",
    "print(\"===================================================================\")\n",
    "print(\"The accuracy on validation dataset of LDA: \\t\", metrics.accuracy_score(y_test, y_pred))\n",
    "print(\"Precision on validation dataset of LDA:    \\t\", metrics.precision_score(y_test, y_pred, average=\"macro\"))\n",
    "print(\"Recall on validation dataset of LDA :      \\t\", metrics.recall_score(y_test, y_pred, average=\"macro\"))\n",
    "print(\"F1 score on validation dataset of LDA:     \\t\", metrics.f1_score(y_test, y_pred, average=\"macro\"))\n",
    "print(\"===================================================================\")\n",
    "print(metrics.classification_report(y_test, y_pred, target_names=['0', '1', '2','3','4', '5', '6', '7']))"
   ]
  },
  {
   "cell_type": "markdown",
   "metadata": {},
   "source": [
    "## Quadratic Discriminant Analysis classifier\n"
   ]
  },
  {
   "cell_type": "markdown",
   "metadata": {},
   "source": [
    "### Classifier"
   ]
  },
  {
   "cell_type": "code",
   "execution_count": 34,
   "metadata": {
    "collapsed": false
   },
   "outputs": [
    {
     "name": "stdout",
     "output_type": "stream",
     "text": [
      "The time for training Decision Tree is  0.0018649101257324219 seconds \n",
      "===================================================================\n",
      "The accuracy on validation dataset of QDA: \t 0.425\n",
      "Precision on validation dataset of QDA:    \t 0.147761121857\n",
      "Recall on validation dataset of QDA :      \t 0.184092539455\n",
      "F1 score on validation dataset of QDA:     \t 0.151543999599\n",
      "===================================================================\n",
      "             precision    recall  f1-score   support\n",
      "\n",
      "          0       0.00      0.00      0.00         1\n",
      "          1       0.49      0.56      0.52        41\n",
      "          2       0.00      0.00      0.00         4\n",
      "          3       0.00      0.00      0.00        23\n",
      "          4       0.27      0.09      0.13        34\n",
      "          5       0.00      0.00      0.00         3\n",
      "          6       0.00      0.00      0.00         3\n",
      "          7       0.42      0.82      0.56        51\n",
      "\n",
      "avg / total       0.32      0.42      0.34       160\n",
      "\n"
     ]
    },
    {
     "name": "stderr",
     "output_type": "stream",
     "text": [
      "/Library/Frameworks/Python.framework/Versions/3.6/lib/python3.6/site-packages/sklearn/metrics/classification.py:1113: UndefinedMetricWarning: Precision is ill-defined and being set to 0.0 in labels with no predicted samples.\n",
      "  'precision', 'predicted', average, warn_for)\n",
      "/Library/Frameworks/Python.framework/Versions/3.6/lib/python3.6/site-packages/sklearn/metrics/classification.py:1113: UndefinedMetricWarning: F-score is ill-defined and being set to 0.0 in labels with no predicted samples.\n",
      "  'precision', 'predicted', average, warn_for)\n",
      "/Library/Frameworks/Python.framework/Versions/3.6/lib/python3.6/site-packages/sklearn/metrics/classification.py:1113: UndefinedMetricWarning: Precision and F-score are ill-defined and being set to 0.0 in labels with no predicted samples.\n",
      "  'precision', 'predicted', average, warn_for)\n"
     ]
    }
   ],
   "source": [
    "from sklearn.discriminant_analysis import QuadraticDiscriminantAnalysis\n",
    "clf_dt_QDA = QuadraticDiscriminantAnalysis()\n",
    "#Training\n",
    "start_time = time.time()\n",
    "clf_dt_QDA.fit(X_train, y_train)\n",
    "print(\"The time for training Decision Tree is  %s seconds \" % (time.time() - start_time))\n",
    "\n",
    "# Make a prediction\n",
    "y_pred = clf_dt_QDA.predict(X_test)\n",
    "\n",
    "print(\"===================================================================\")\n",
    "print(\"The accuracy on validation dataset of QDA: \\t\", metrics.accuracy_score(y_test, y_pred))\n",
    "print(\"Precision on validation dataset of QDA:    \\t\", metrics.precision_score(y_test, y_pred, average=\"macro\"))\n",
    "print(\"Recall on validation dataset of QDA :      \\t\", metrics.recall_score(y_test, y_pred, average=\"macro\"))\n",
    "print(\"F1 score on validation dataset of QDA:     \\t\", metrics.f1_score(y_test, y_pred, average=\"macro\"))\n",
    "print(\"===================================================================\")\n",
    "print(metrics.classification_report(y_test, y_pred, target_names=['0', '1', '2','3','4', '5', '6', '7']))"
   ]
  },
  {
   "cell_type": "markdown",
   "metadata": {},
   "source": [
    "## Logistic Regression"
   ]
  },
  {
   "cell_type": "code",
   "execution_count": 35,
   "metadata": {
    "collapsed": false
   },
   "outputs": [
    {
     "name": "stdout",
     "output_type": "stream",
     "text": [
      "The time for training LDA is  0.00438690185546875 seconds \n",
      "===================================================================\n",
      "The accuracy on validation dataset of LOG. REG.: \t 0.3125\n",
      "Precision on validation dataset of LOG. REG.:    \t 0.0781738586617\n",
      "Recall on validation dataset of LOG REG. :      \t 0.137494021999\n",
      "F1 score on validation dataset of LOG. REG.:     \t 0.0995134896064\n",
      "===================================================================\n",
      "             precision    recall  f1-score   support\n",
      "\n",
      "          0       0.00      0.00      0.00         1\n",
      "          1       0.32      0.61      0.42        41\n",
      "          2       0.00      0.00      0.00         4\n",
      "          3       0.00      0.00      0.00        23\n",
      "          4       0.00      0.00      0.00        34\n",
      "          5       0.00      0.00      0.00         3\n",
      "          6       0.00      0.00      0.00         3\n",
      "          7       0.30      0.49      0.38        51\n",
      "\n",
      "avg / total       0.18      0.31      0.23       160\n",
      "\n"
     ]
    },
    {
     "name": "stderr",
     "output_type": "stream",
     "text": [
      "/Library/Frameworks/Python.framework/Versions/3.6/lib/python3.6/site-packages/sklearn/metrics/classification.py:1113: UndefinedMetricWarning: Precision is ill-defined and being set to 0.0 in labels with no predicted samples.\n",
      "  'precision', 'predicted', average, warn_for)\n",
      "/Library/Frameworks/Python.framework/Versions/3.6/lib/python3.6/site-packages/sklearn/metrics/classification.py:1113: UndefinedMetricWarning: F-score is ill-defined and being set to 0.0 in labels with no predicted samples.\n",
      "  'precision', 'predicted', average, warn_for)\n",
      "/Library/Frameworks/Python.framework/Versions/3.6/lib/python3.6/site-packages/sklearn/metrics/classification.py:1113: UndefinedMetricWarning: Precision and F-score are ill-defined and being set to 0.0 in labels with no predicted samples.\n",
      "  'precision', 'predicted', average, warn_for)\n"
     ]
    }
   ],
   "source": [
    "from sklearn.linear_model import LogisticRegression\n",
    "LogReg = LogisticRegression(C=1e5)\n",
    "#Training\n",
    "start_time = time.time()\n",
    "LogReg.fit(X_train, y_train)\n",
    "print(\"The time for training LDA is  %s seconds \" % (time.time() - start_time))\n",
    "\n",
    "# Make a prediction\n",
    "y_pred = LogReg.predict(X_test)\n",
    "\n",
    "\n",
    "\n",
    "print(\"===================================================================\")\n",
    "print(\"The accuracy on validation dataset of LOG. REG.: \\t\", metrics.accuracy_score(y_test, y_pred))\n",
    "print(\"Precision on validation dataset of LOG. REG.:    \\t\", metrics.precision_score(y_test, y_pred, average=\"macro\"))\n",
    "print(\"Recall on validation dataset of LOG REG. :      \\t\", metrics.recall_score(y_test, y_pred, average=\"macro\"))\n",
    "print(\"F1 score on validation dataset of LOG. REG.:     \\t\", metrics.f1_score(y_test, y_pred, average=\"macro\"))\n",
    "print(\"===================================================================\")\n",
    "print(metrics.classification_report(y_test, y_pred, target_names=['0', '1', '2','3','4', '5', '6', '7']))"
   ]
  },
  {
   "cell_type": "markdown",
   "metadata": {},
   "source": [
    "## Gaussian Process Classifier"
   ]
  },
  {
   "cell_type": "code",
   "execution_count": 36,
   "metadata": {
    "collapsed": false
   },
   "outputs": [
    {
     "name": "stdout",
     "output_type": "stream",
     "text": [
      "The time for training QDA is  1.5672037601470947 seconds \n",
      "===================================================================\n",
      "The accuracy on validation dataset of GP: \t 0.5125\n",
      "Precision on validation dataset of GP:    \t 0.198955767652\n",
      "Recall on validation dataset of GP :      \t 0.229943806791\n",
      "F1 score on validation dataset of GP:     \t 0.200387205387\n",
      "===================================================================\n",
      "             precision    recall  f1-score   support\n",
      "\n",
      "          0       0.00      0.00      0.00         1\n",
      "          1       0.52      0.73      0.61        41\n",
      "          2       0.00      0.00      0.00         4\n",
      "          3       0.00      0.00      0.00        23\n",
      "          4       0.56      0.26      0.36        34\n",
      "          5       0.00      0.00      0.00         3\n",
      "          6       0.00      0.00      0.00         3\n",
      "          7       0.51      0.84      0.64        51\n",
      "\n",
      "avg / total       0.42      0.51      0.43       160\n",
      "\n"
     ]
    },
    {
     "name": "stderr",
     "output_type": "stream",
     "text": [
      "/Library/Frameworks/Python.framework/Versions/3.6/lib/python3.6/site-packages/sklearn/metrics/classification.py:1113: UndefinedMetricWarning: Precision is ill-defined and being set to 0.0 in labels with no predicted samples.\n",
      "  'precision', 'predicted', average, warn_for)\n",
      "/Library/Frameworks/Python.framework/Versions/3.6/lib/python3.6/site-packages/sklearn/metrics/classification.py:1113: UndefinedMetricWarning: F-score is ill-defined and being set to 0.0 in labels with no predicted samples.\n",
      "  'precision', 'predicted', average, warn_for)\n",
      "/Library/Frameworks/Python.framework/Versions/3.6/lib/python3.6/site-packages/sklearn/metrics/classification.py:1113: UndefinedMetricWarning: Precision and F-score are ill-defined and being set to 0.0 in labels with no predicted samples.\n",
      "  'precision', 'predicted', average, warn_for)\n"
     ]
    }
   ],
   "source": [
    "from sklearn.gaussian_process import GaussianProcessClassifier\n",
    "GP = GaussianProcessClassifier()\n",
    "#Training\n",
    "start_time = time.time()\n",
    "GP.fit(X_train, y_train)\n",
    "print(\"The time for training QDA is  %s seconds \" % (time.time() - start_time))\n",
    "\n",
    "# Make a prediction\n",
    "y_pred = GP.predict(X_test)\n",
    "\n",
    "print(\"===================================================================\")\n",
    "print(\"The accuracy on validation dataset of GP: \\t\", metrics.accuracy_score(y_test, y_pred))\n",
    "print(\"Precision on validation dataset of GP:    \\t\", metrics.precision_score(y_test, y_pred, average=\"macro\"))\n",
    "print(\"Recall on validation dataset of GP :      \\t\", metrics.recall_score(y_test, y_pred, average=\"macro\"))\n",
    "print(\"F1 score on validation dataset of GP:     \\t\", metrics.f1_score(y_test, y_pred, average=\"macro\"))\n",
    "print(\"===================================================================\")\n",
    "print(metrics.classification_report(y_test, y_pred, target_names=['0', '1', '2','3','4', '5', '6', '7']))"
   ]
  },
  {
   "cell_type": "markdown",
   "metadata": {},
   "source": [
    "## LightGBM, Light Gradient Boosting Machine"
   ]
  },
  {
   "cell_type": "code",
   "execution_count": 37,
   "metadata": {
    "collapsed": false
   },
   "outputs": [
    {
     "name": "stdout",
     "output_type": "stream",
     "text": [
      "===================================================================\n",
      "The accuracy on validation dataset of LightGBM: \t 0.55625\n",
      "Precision on validation dataset of LightGBM:    \t 0.258059954751\n",
      "Recall on validation dataset of LightGBM :      \t 0.2760328946\n",
      "F1 score on validation dataset of LightGBM:     \t 0.265189199472\n",
      "===================================================================\n",
      "             precision    recall  f1-score   support\n",
      "\n",
      "          0       0.00      0.00      0.00         1\n",
      "          1       0.62      0.73      0.67        41\n",
      "          2       0.00      0.00      0.00         4\n",
      "          3       0.35      0.26      0.30        23\n",
      "          4       0.46      0.53      0.49        34\n",
      "          5       0.00      0.00      0.00         3\n",
      "          6       0.00      0.00      0.00         3\n",
      "          7       0.62      0.69      0.65        51\n",
      "\n",
      "avg / total       0.51      0.56      0.53       160\n",
      "\n"
     ]
    },
    {
     "name": "stderr",
     "output_type": "stream",
     "text": [
      "/Library/Frameworks/Python.framework/Versions/3.6/lib/python3.6/site-packages/sklearn/metrics/classification.py:1113: UndefinedMetricWarning: Precision is ill-defined and being set to 0.0 in labels with no predicted samples.\n",
      "  'precision', 'predicted', average, warn_for)\n",
      "/Library/Frameworks/Python.framework/Versions/3.6/lib/python3.6/site-packages/sklearn/metrics/classification.py:1113: UndefinedMetricWarning: F-score is ill-defined and being set to 0.0 in labels with no predicted samples.\n",
      "  'precision', 'predicted', average, warn_for)\n",
      "/Library/Frameworks/Python.framework/Versions/3.6/lib/python3.6/site-packages/sklearn/metrics/classification.py:1113: UndefinedMetricWarning: Precision and F-score are ill-defined and being set to 0.0 in labels with no predicted samples.\n",
      "  'precision', 'predicted', average, warn_for)\n"
     ]
    }
   ],
   "source": [
    "import lightgbm as lgb\n",
    "lgb_train = lgb.Dataset(X_train, y_train)\n",
    "gbm = lgb.LGBMClassifier()\n",
    "gbm.fit(X_train, y_train, eval_metric=\"multi_logloss\")\n",
    "y_pred = gbm.predict(X_test)\n",
    "\n",
    "\n",
    "print(\"===================================================================\")\n",
    "print(\"The accuracy on validation dataset of LightGBM: \\t\", metrics.accuracy_score(y_test, y_pred))\n",
    "print(\"Precision on validation dataset of LightGBM:    \\t\", metrics.precision_score(y_test, y_pred, average=\"macro\"))\n",
    "print(\"Recall on validation dataset of LightGBM :      \\t\", metrics.recall_score(y_test, y_pred, average=\"macro\"))\n",
    "print(\"F1 score on validation dataset of LightGBM:     \\t\", metrics.f1_score(y_test, y_pred, average=\"macro\"))\n",
    "print(\"===================================================================\")\n",
    "print(metrics.classification_report(y_test, y_pred, target_names=['0', '1', '2','3','4', '5', '6', '7']))"
   ]
  },
  {
   "cell_type": "markdown",
   "metadata": {},
   "source": [
    "## XGBoost, eXtreme Gradient Boosting"
   ]
  },
  {
   "cell_type": "code",
   "execution_count": 38,
   "metadata": {
    "collapsed": false
   },
   "outputs": [
    {
     "name": "stdout",
     "output_type": "stream",
     "text": [
      "===================================================================\n",
      "The accuracy on validation dataset of XGBOOST: \t 0.6125\n",
      "Precision on validation dataset of XGBOOST:    \t 0.285293381933\n",
      "Recall on validation dataset of XGBOOST :      \t 0.296338604371\n",
      "F1 score on validation dataset of XGBOOST:     \t 0.283672142828\n",
      "===================================================================\n",
      "             precision    recall  f1-score   support\n",
      "\n",
      "          0       0.00      0.00      0.00         1\n",
      "          1       0.66      0.85      0.74        41\n",
      "          2       0.00      0.00      0.00         4\n",
      "          3       0.36      0.17      0.24        23\n",
      "          4       0.63      0.56      0.59        34\n",
      "          5       0.00      0.00      0.00         3\n",
      "          6       0.00      0.00      0.00         3\n",
      "          7       0.62      0.78      0.70        51\n",
      "\n",
      "avg / total       0.56      0.61      0.57       160\n",
      "\n"
     ]
    },
    {
     "name": "stderr",
     "output_type": "stream",
     "text": [
      "/Library/Frameworks/Python.framework/Versions/3.6/lib/python3.6/site-packages/sklearn/metrics/classification.py:1113: UndefinedMetricWarning: Precision is ill-defined and being set to 0.0 in labels with no predicted samples.\n",
      "  'precision', 'predicted', average, warn_for)\n",
      "/Library/Frameworks/Python.framework/Versions/3.6/lib/python3.6/site-packages/sklearn/metrics/classification.py:1113: UndefinedMetricWarning: F-score is ill-defined and being set to 0.0 in labels with no predicted samples.\n",
      "  'precision', 'predicted', average, warn_for)\n",
      "/Library/Frameworks/Python.framework/Versions/3.6/lib/python3.6/site-packages/sklearn/metrics/classification.py:1113: UndefinedMetricWarning: Precision and F-score are ill-defined and being set to 0.0 in labels with no predicted samples.\n",
      "  'precision', 'predicted', average, warn_for)\n"
     ]
    }
   ],
   "source": [
    "import xgboost as xgb\n",
    "XG_Boost = xgb.XGBClassifier(max_depth=3, n_estimators=300, learning_rate=0.05).fit(X_train, y_train)\n",
    "y_pred = XG_Boost.predict(X_test)\n",
    "\n",
    "print(\"===================================================================\")\n",
    "print(\"The accuracy on validation dataset of XGBOOST: \\t\", metrics.accuracy_score(y_test, y_pred))\n",
    "print(\"Precision on validation dataset of XGBOOST:    \\t\", metrics.precision_score(y_test, y_pred, average=\"macro\"))\n",
    "print(\"Recall on validation dataset of XGBOOST :      \\t\", metrics.recall_score(y_test, y_pred, average=\"macro\"))\n",
    "print(\"F1 score on validation dataset of XGBOOST:     \\t\", metrics.f1_score(y_test, y_pred, average=\"macro\"))\n",
    "print(\"===================================================================\")\n",
    "print(metrics.classification_report(y_test, y_pred, target_names=['0', '1', '2','3','4', '5', '6', '7']))"
   ]
  },
  {
   "cell_type": "code",
   "execution_count": 39,
   "metadata": {
    "collapsed": false
   },
   "outputs": [
    {
     "name": "stdout",
     "output_type": "stream",
     "text": [
      "===================================================================\n",
      "The accuracy on validation dataset of KNN: \t 0.6125\n",
      "Precision on validation dataset of KNN:    \t 0.285293381933\n",
      "Recall on validation dataset of KNN :      \t 0.296338604371\n",
      "F1 score on validation dataset of KNN:     \t 0.283672142828\n",
      "===================================================================\n",
      "             precision    recall  f1-score   support\n",
      "\n",
      "          0       0.00      0.00      0.00         1\n",
      "          1       0.66      0.85      0.74        41\n",
      "          2       0.00      0.00      0.00         4\n",
      "          3       0.36      0.17      0.24        23\n",
      "          4       0.63      0.56      0.59        34\n",
      "          5       0.00      0.00      0.00         3\n",
      "          6       0.00      0.00      0.00         3\n",
      "          7       0.62      0.78      0.70        51\n",
      "\n",
      "avg / total       0.56      0.61      0.57       160\n",
      "\n"
     ]
    },
    {
     "name": "stderr",
     "output_type": "stream",
     "text": [
      "/Library/Frameworks/Python.framework/Versions/3.6/lib/python3.6/site-packages/sklearn/metrics/classification.py:1113: UndefinedMetricWarning: Precision is ill-defined and being set to 0.0 in labels with no predicted samples.\n",
      "  'precision', 'predicted', average, warn_for)\n",
      "/Library/Frameworks/Python.framework/Versions/3.6/lib/python3.6/site-packages/sklearn/metrics/classification.py:1113: UndefinedMetricWarning: F-score is ill-defined and being set to 0.0 in labels with no predicted samples.\n",
      "  'precision', 'predicted', average, warn_for)\n",
      "/Library/Frameworks/Python.framework/Versions/3.6/lib/python3.6/site-packages/sklearn/metrics/classification.py:1113: UndefinedMetricWarning: Precision and F-score are ill-defined and being set to 0.0 in labels with no predicted samples.\n",
      "  'precision', 'predicted', average, warn_for)\n"
     ]
    }
   ],
   "source": [
    "\n",
    "\n",
    "print(\"===================================================================\")\n",
    "print(\"The accuracy on validation dataset of KNN: \\t\", metrics.accuracy_score(y_test, y_pred))\n",
    "print(\"Precision on validation dataset of KNN:    \\t\", metrics.precision_score(y_test, y_pred, average=\"macro\"))\n",
    "print(\"Recall on validation dataset of KNN :      \\t\", metrics.recall_score(y_test, y_pred, average=\"macro\"))\n",
    "print(\"F1 score on validation dataset of KNN:     \\t\", metrics.f1_score(y_test, y_pred, average=\"macro\"))\n",
    "print(\"===================================================================\")\n",
    "print(metrics.classification_report(y_test, y_pred, target_names=['0', '1', '2','3','4', '5', '6', '7']))"
   ]
  },
  {
   "cell_type": "markdown",
   "metadata": {},
   "source": [
    "## Neural Networks  classifier"
   ]
  },
  {
   "cell_type": "code",
   "execution_count": 46,
   "metadata": {
    "collapsed": false
   },
   "outputs": [
    {
     "name": "stdout",
     "output_type": "stream",
     "text": [
      "The time for training NN is  2.3997786045074463 seconds \n",
      "Test fraction correct (NN-Score) = 1.52\n",
      "Test fraction correct (NN-Accuracy) = 0.46\n"
     ]
    }
   ],
   "source": [
    "import seaborn as sns\n",
    "import numpy as np\n",
    "from sklearn.cross_validation import train_test_split\n",
    "from keras.models import Sequential\n",
    "from keras.layers import Dense, Dropout\n",
    "from keras.regularizers import l2\n",
    "\n",
    "from keras.utils import np_utils\n",
    "\n",
    "labelsTrain = np_utils.to_categorical(y_train)\n",
    "labelsTest = np_utils.to_categorical(y_test)                                              \n",
    "model = Sequential()\n",
    "model.add(Dense(20,\n",
    "                input_shape=(3,), \n",
    "                activation=\"relu\"))\n",
    "#model.add(Dropout(0.5))\n",
    "model.add(Dense(8, activation=\"softmax\"))\n",
    "\n",
    "model.compile(loss='categorical_crossentropy',\n",
    "              metrics=['accuracy'],\n",
    "              optimizer='adam')\n",
    "# Actual modelling\n",
    "start_time = time.time()\n",
    "model.fit(X_train, labelsTrain, verbose=0, batch_size=13, nb_epoch=100)\n",
    "print(\"The time for training NN is  %s seconds \" % (time.time() - start_time))\n",
    "score, accuracy = model.evaluate(X_test, labelsTest, batch_size=13, verbose=0)\n",
    "print(\"Test fraction correct (NN-Score) = {:.2f}\".format(score))\n",
    "print(\"Test fraction correct (NN-Accuracy) = {:.2f}\".format(accuracy))"
   ]
  },
  {
   "cell_type": "code",
   "execution_count": 47,
   "metadata": {
    "collapsed": false
   },
   "outputs": [
    {
     "name": "stdout",
     "output_type": "stream",
     "text": [
      " 32/160 [=====>........................] - ETA: 0s===================================================================\n",
      "The accuracy on validation dataset of NN: \t 0.4625\n",
      "Precision on validation dataset of NN:    \t 0.164387293993\n",
      "Recall on validation dataset of NN :      \t 0.202415112386\n",
      "F1 score on validation dataset of NN:     \t 0.167340907994\n",
      "===================================================================\n",
      "             precision    recall  f1-score   support\n",
      "\n",
      "          0       0.00      0.00      0.00         1\n",
      "          1       0.47      0.66      0.55        41\n",
      "          2       0.00      0.00      0.00         4\n",
      "          3       0.00      0.00      0.00        23\n",
      "          4       0.36      0.12      0.18        34\n",
      "          5       0.00      0.00      0.00         3\n",
      "          6       0.00      0.00      0.00         3\n",
      "          7       0.48      0.84      0.61        51\n",
      "\n",
      "avg / total       0.35      0.46      0.37       160\n",
      "\n"
     ]
    },
    {
     "name": "stderr",
     "output_type": "stream",
     "text": [
      "/Library/Frameworks/Python.framework/Versions/3.6/lib/python3.6/site-packages/sklearn/metrics/classification.py:1113: UndefinedMetricWarning: Precision is ill-defined and being set to 0.0 in labels with no predicted samples.\n",
      "  'precision', 'predicted', average, warn_for)\n",
      "/Library/Frameworks/Python.framework/Versions/3.6/lib/python3.6/site-packages/sklearn/metrics/classification.py:1113: UndefinedMetricWarning: F-score is ill-defined and being set to 0.0 in labels with no predicted samples.\n",
      "  'precision', 'predicted', average, warn_for)\n",
      "/Library/Frameworks/Python.framework/Versions/3.6/lib/python3.6/site-packages/sklearn/metrics/classification.py:1113: UndefinedMetricWarning: Precision and F-score are ill-defined and being set to 0.0 in labels with no predicted samples.\n",
      "  'precision', 'predicted', average, warn_for)\n"
     ]
    }
   ],
   "source": [
    "y_pred = model.predict_classes(X_test)\n",
    "\n",
    "print(\"===================================================================\")\n",
    "print(\"The accuracy on validation dataset of NN: \\t\", metrics.accuracy_score(y_test, y_pred))\n",
    "print(\"Precision on validation dataset of NN:    \\t\", metrics.precision_score(y_test, y_pred, average=\"macro\"))\n",
    "print(\"Recall on validation dataset of NN :      \\t\", metrics.recall_score(y_test, y_pred, average=\"macro\"))\n",
    "print(\"F1 score on validation dataset of NN:     \\t\", metrics.f1_score(y_test, y_pred, average=\"macro\"))\n",
    "print(\"===================================================================\")\n",
    "print(metrics.classification_report(y_test, y_pred, target_names=['0', '1', '2','3','4', '5', '6', '7']))"
   ]
  },
  {
   "cell_type": "code",
   "execution_count": 50,
   "metadata": {
    "collapsed": true
   },
   "outputs": [],
   "source": [
    "path = './chest/'\n",
    "sys.path.append(\"./chest\")\n",
    "model.save_weights('chestModelbest.hdf5',overwrite=True)"
   ]
  },
  {
   "cell_type": "code",
   "execution_count": 51,
   "metadata": {
    "collapsed": true
   },
   "outputs": [],
   "source": [
    "np.save('./chest/X_train', X_train)\n",
    "np.save('./chest/y_train', y_train)\n",
    "np.save('./chest/X_test', X_test)\n",
    "np.save('./chest/y_test', y_test)\n",
    "np.save('./chest/X_deploy', X_deploy)\n",
    "np.save('./chest/y_deploy', y_deploy)"
   ]
  },
  {
   "cell_type": "code",
   "execution_count": null,
   "metadata": {
    "collapsed": true
   },
   "outputs": [],
   "source": []
  }
 ],
 "metadata": {
  "kernelspec": {
   "display_name": "Python 3",
   "language": "python",
   "name": "python3"
  },
  "language_info": {
   "codemirror_mode": {
    "name": "ipython",
    "version": 3
   },
   "file_extension": ".py",
   "mimetype": "text/x-python",
   "name": "python",
   "nbconvert_exporter": "python",
   "pygments_lexer": "ipython3",
   "version": "3.6.0"
  }
 },
 "nbformat": 4,
 "nbformat_minor": 0
}
